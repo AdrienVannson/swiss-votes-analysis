{
 "cells": [
  {
   "cell_type": "markdown",
   "metadata": {},
   "source": [
    "# SwissVotes - Analysis"
   ]
  },
  {
   "cell_type": "code",
   "execution_count": null,
   "metadata": {},
   "outputs": [],
   "source": [
    "import matplotlib.pyplot as plt\n",
    "import pandas as pd\n",
    "import seaborn as sns\n",
    "import numpy as np\n",
    "import re"
   ]
  },
  {
   "cell_type": "markdown",
   "metadata": {},
   "source": [
    "## Data cleaning"
   ]
  },
  {
   "cell_type": "code",
   "execution_count": null,
   "metadata": {},
   "outputs": [],
   "source": [
    "df_full = pd.read_csv('swiss-votes.csv', delimiter=';')\n",
    "df_full.head()"
   ]
  },
  {
   "cell_type": "code",
   "execution_count": null,
   "metadata": {},
   "outputs": [],
   "source": [
    "df = pd.DataFrame()\n",
    "df['title_fr'] = df_full['titel_off_f'] # Title of the vote in French\n",
    "df['date'] = pd.to_datetime(df_full['datum'], dayfirst=True)\n",
    "df['date_year'] = df['date'].dt.year\n",
    "df['type'] = df_full['rechtsform'].map({\n",
    "    1: 'mandatory-referendum',\n",
    "    2: 'optional-referendum',\n",
    "    3: 'popular-initiative',\n",
    "    4: 'AA',\n",
    "    5: 'BB'\n",
    "})\n",
    "df['author'] = df_full['urheber']\n",
    "df['valid_signatures'] = df_full['unter_g']\n",
    "df"
   ]
  },
  {
   "cell_type": "markdown",
   "metadata": {},
   "source": [
    "### Political parties"
   ]
  },
  {
   "cell_type": "code",
   "execution_count": null,
   "metadata": {},
   "outputs": [],
   "source": [
    "def has_svp(authors): # UDC: Union Democrate du Centre\n",
    "    authors = authors.lower()\n",
    "    return \"schweizerische volkspartei\" in authors or re.search(r'\\bsvp\\b', authors) is not None\n",
    "\n",
    "def has_sp(authors): # PS: Parti Socialiste\n",
    "    authors = authors.lower()\n",
    "    return \"sozialdemokratischen partei\" in authors or re.search(r'\\bsp\\b', authors) is not None\n",
    "\n",
    "def has_mitte(authors): # Partis centristes\n",
    "    authors = authors.lower()\n",
    "    return \"sozialdemokratischen partei\" in authors or re.search(r'\\b(cvp|bdp)\\b', authors) is not None\n",
    "\n",
    "def has_fdp(authors): # Parti libéral-démocrate\n",
    "    authors = authors.lower()\n",
    "    return re.search(r'\\bfdp\\b', authors) is not None\n",
    "\n",
    "df['author_partei_svp'] = df['author'].map(has_svp)\n",
    "df['author_partei_sp'] = df['author'].map(has_sp)\n",
    "df['author_partei_mitte'] = df['author'].map(has_mitte)\n",
    "df['author_partei_fdp'] = df['author'].map(has_fdp)"
   ]
  },
  {
   "cell_type": "code",
   "execution_count": null,
   "metadata": {},
   "outputs": [],
   "source": [
    "sum(df['author_partei_svp']), sum(df['author_partei_sp']), sum(df['author_partei_mitte']), sum(df['author_partei_fdp'])"
   ]
  },
  {
   "cell_type": "markdown",
   "metadata": {},
   "source": [
    "## Analysis"
   ]
  },
  {
   "cell_type": "code",
   "execution_count": null,
   "metadata": {},
   "outputs": [],
   "source": [
    "plt.figure(figsize=(10, 6))\n",
    "sns.histplot(df['date_year'], bins=(df['date_year'].max()-df['date_year'].min()) // 10)\n",
    "plt.title('Number of popular votes per year')\n",
    "plt.xlabel('Year')\n",
    "plt.ylabel('Number of votes')\n",
    "plt.show()"
   ]
  },
  {
   "cell_type": "code",
   "execution_count": null,
   "metadata": {},
   "outputs": [],
   "source": [
    "sns.displot(df, x='date_year', hue='type', kind='hist', multiple='fill', aspect=2, height=6)\n",
    "plt.title(\"Proportion of the referendum used over the years\")\n",
    "plt.xlabel(\"Year\")\n",
    "plt.xlim(df['date_year'].min(), df['date_year'].max())\n",
    "plt.ylabel(\"Proportion\")\n",
    "plt.show()"
   ]
  }
 ],
 "metadata": {
  "kernelspec": {
   "display_name": "epfl-ada",
   "language": "python",
   "name": "python3"
  },
  "language_info": {
   "codemirror_mode": {
    "name": "ipython",
    "version": 3
   },
   "file_extension": ".py",
   "mimetype": "text/x-python",
   "name": "python",
   "nbconvert_exporter": "python",
   "pygments_lexer": "ipython3",
   "version": "3.9.18"
  }
 },
 "nbformat": 4,
 "nbformat_minor": 2
}
