{
 "cells": [
  {
   "cell_type": "markdown",
   "metadata": {},
   "source": [
    "# SwissVotes - Analysis"
   ]
  },
  {
   "cell_type": "code",
   "execution_count": null,
   "metadata": {},
   "outputs": [],
   "source": [
    "import matplotlib.pyplot as plt\n",
    "import pandas as pd\n",
    "import seaborn as sns\n",
    "import numpy as np\n",
    "import re"
   ]
  },
  {
   "cell_type": "markdown",
   "metadata": {},
   "source": [
    "## Data cleaning"
   ]
  },
  {
   "cell_type": "code",
   "execution_count": null,
   "metadata": {},
   "outputs": [],
   "source": [
    "df_full = pd.read_csv('swiss-votes.csv', delimiter=';')\n",
    "df_full.head()"
   ]
  },
  {
   "cell_type": "code",
   "execution_count": null,
   "metadata": {},
   "outputs": [],
   "source": [
    "df = pd.DataFrame()\n",
    "df['title_fr'] = df_full['titel_off_f'] # Title of the vote in French\n",
    "df['date'] = pd.to_datetime(df_full['datum'], dayfirst=True)\n",
    "df['date_year'] = df['date'].dt.year\n",
    "df['type'] = df_full['rechtsform'].map({\n",
    "    1: 'mandatory-referendum',\n",
    "    2: 'optional-referendum',\n",
    "    3: 'popular-initiative',\n",
    "    4: 'AA',\n",
    "    5: 'BB'\n",
    "})\n",
    "df['author'] = df_full['urheber']\n",
    "df['valid_signatures'] = df_full['unter_g']\n",
    "df"
   ]
  },
  {
   "cell_type": "markdown",
   "metadata": {},
   "source": [
    "### Political parties"
   ]
  },
  {
   "cell_type": "code",
   "execution_count": null,
   "metadata": {},
   "outputs": [],
   "source": [
    "def has_svp(authors): # UDC: Union Democrate du Centre\n",
    "    authors = authors.lower()\n",
    "    return \"schweizerische volkspartei\" in authors or re.search(r'\\bsvp\\b', authors) is not None\n",
    "\n",
    "def has_sp(authors): # PS: Parti Socialiste\n",
    "    authors = authors.lower()\n",
    "    return \"sozialdemokratischen partei\" in authors \\\n",
    "        or \"sozialdemokratische partei\" in authors \\\n",
    "        or re.search(r'\\bsp\\b', authors) is not None\n",
    "\n",
    "def has_mitte(authors): # Partis centristes\n",
    "    authors = authors.lower()\n",
    "    return re.search(r'\\b(cvp|bdp)\\b', authors) is not None\n",
    "\n",
    "def has_fdp(authors): # Parti libéral-démocrate\n",
    "    authors = authors.lower()\n",
    "    return re.search(r'\\bfdp\\b', authors) is not None\n",
    "\n",
    "def has_grun(authors): # Partis verts\n",
    "    authors = authors.lower().replace('ü', 'u')\n",
    "    return re.search(r'\\bgrun(e|en|es)?\\b', authors) is not None\n",
    "\n",
    "df['author_partei_svp'] = df['author'].map(has_svp)\n",
    "df['author_partei_sp'] = df['author'].map(has_sp)\n",
    "df['author_partei_mitte'] = df['author'].map(has_mitte)\n",
    "df['author_partei_fdp'] = df['author'].map(has_fdp)\n",
    "df['author_partei_grun'] = df['author'].map(has_grun)\n",
    "\n",
    "df['author_partei'] = df['author_partei_svp'] | df['author_partei_sp'] | df['author_partei_mitte'] | df['author_partei_fdp'] | df['author_partei_grun']\n",
    "\n",
    "POLITICAL_PARTIES = {\n",
    "    'svp': \"Swiss People's Party\",\n",
    "    'sp': \"Social Democratic Party\",\n",
    "    #'mitte': \"The Centre\",\n",
    "    #'fdp': \"Free Democratic Party\",\n",
    "    'grun': \"Green parties\",\n",
    "}"
   ]
  },
  {
   "cell_type": "markdown",
   "metadata": {},
   "source": [
    "No author is provided for mandatory referendums (since the referendum is not initiated by a specific group of people). A negligible number of votes of another type also miss this information."
   ]
  },
  {
   "cell_type": "code",
   "execution_count": null,
   "metadata": {},
   "outputs": [],
   "source": [
    "df.query(\"type != 'mandatory-referendum' & author == '.'\")"
   ]
  },
  {
   "cell_type": "code",
   "execution_count": null,
   "metadata": {},
   "outputs": [],
   "source": [
    "df_initiatives = df.query(\"type == 'popular-initiative'\")\n",
    "\n",
    "print('Percentage of popular initiatives from a political party', df_initiatives['author_partei'].sum() / len(df_initiatives))"
   ]
  },
  {
   "cell_type": "code",
   "execution_count": null,
   "metadata": {},
   "outputs": [],
   "source": [
    "print(\"Number of initiatives per party:\")\n",
    "print(sum(df['author_partei_svp']), sum(df['author_partei_sp']), sum(df['author_partei_mitte']), sum(df['author_partei_fdp']), sum(df['author_partei_grun']))"
   ]
  },
  {
   "cell_type": "code",
   "execution_count": null,
   "metadata": {},
   "outputs": [],
   "source": [
    "df[df['author_partei_grun']]['author']"
   ]
  },
  {
   "cell_type": "code",
   "execution_count": null,
   "metadata": {},
   "outputs": [],
   "source": [
    "for _, row in df.iterrows():\n",
    "    aut = row['author']\n",
    "    if 'partei' in aut.lower() and not row['author_partei']:\n",
    "        print(aut)"
   ]
  },
  {
   "cell_type": "code",
   "execution_count": null,
   "metadata": {},
   "outputs": [],
   "source": [
    "for _, row in df.iterrows():\n",
    "    aut = row['author']\n",
    "    if 'grun' in aut.lower().replace('ü', 'u') and not has_grun(aut):\n",
    "        print(aut)"
   ]
  },
  {
   "cell_type": "code",
   "execution_count": null,
   "metadata": {},
   "outputs": [],
   "source": [
    "from collections import Counter\n",
    "from matplotlib_venn import venn3\n",
    "\n",
    "counter = Counter()\n",
    "\n",
    "for _, row in df.iterrows():\n",
    "    votes = (row['author_partei_sp'], row['author_partei_grun'], row['author_partei_svp'])\n",
    "\n",
    "    if votes != (0, 0, 0):\n",
    "        counter.update([votes])\n",
    "\n",
    "venn3(\n",
    "    subsets=(counter[(True, False, False)], counter[(False, True, False)], counter[(True, True, False)], counter[(False, False, True)], counter[(True, False, True)], counter[(False, True, True)], counter[(True, True, True)]),\n",
    "    set_labels=(POLITICAL_PARTIES['sp'], POLITICAL_PARTIES['grun'], POLITICAL_PARTIES['svp'])\n",
    ")\n",
    "plt.show()"
   ]
  },
  {
   "cell_type": "code",
   "execution_count": null,
   "metadata": {},
   "outputs": [],
   "source": [
    "for id in POLITICAL_PARTIES:\n",
    "    df_party = df.query(f\"author_partei_{id} == 1\")\n",
    "    plt.figure(figsize=(10, 6))\n",
    "    sns.histplot(df_party['date_year'], bins=(df_party['date_year'].max()-df_party['date_year'].min()) // 10)\n",
    "    plt.title(f\"Number of popular votes per year for {POLITICAL_PARTIES[id]}\")\n",
    "    plt.xlabel('Year')\n",
    "    plt.ylabel('Number of votes')\n",
    "    plt.show()"
   ]
  },
  {
   "cell_type": "code",
   "execution_count": null,
   "metadata": {},
   "outputs": [],
   "source": [
    "plt.figure(figsize=(10, 6))\n",
    "\n",
    "for id in ['sp', 'svp', 'grun']:\n",
    "    df_party = df.query(f\"author_partei_{id} == 1\")\n",
    "\n",
    "    #sns.histplot(df_party['date_year'], bins=(df_party['date_year'].max()-df_party['date_year'].min()) // 10)\n",
    "    sns.histplot(df_party['date_year'], binwidth=5, multiple=\"dodge\")\n",
    "\n",
    "plt.title(f\"Number of popular initiatives per year by party\")\n",
    "plt.xlabel('Year')\n",
    "plt.ylabel('Number of votes')\n",
    "plt.show()"
   ]
  },
  {
   "cell_type": "markdown",
   "metadata": {},
   "source": [
    "## Analysis"
   ]
  },
  {
   "cell_type": "code",
   "execution_count": null,
   "metadata": {},
   "outputs": [],
   "source": [
    "plt.figure(figsize=(10, 6))\n",
    "sns.histplot(df['date_year'], binwidth=10)\n",
    "plt.title('Number of popular votes per decade')\n",
    "plt.xlabel('Year')\n",
    "plt.ylabel('Number of votes')\n",
    "plt.show()"
   ]
  },
  {
   "cell_type": "code",
   "execution_count": null,
   "metadata": {},
   "outputs": [],
   "source": [
    "plt.figure(figsize=(10, 6))\n",
    "sns.histplot(df_initiatives['date_year'], binwidth=10)\n",
    "plt.title('Number of popular initiatives per decade')\n",
    "plt.xlabel('Year')\n",
    "plt.ylabel('Number of votes')\n",
    "plt.show()"
   ]
  },
  {
   "cell_type": "code",
   "execution_count": null,
   "metadata": {},
   "outputs": [],
   "source": [
    "sns.displot(df, x='date_year', hue='type', kind='hist', multiple='fill', aspect=2, height=6)\n",
    "plt.title(\"Proportion of the referendum used over the years\")\n",
    "plt.xlabel(\"Year\")\n",
    "plt.xlim(df['date_year'].min(), df['date_year'].max())\n",
    "plt.ylabel(\"Proportion\")\n",
    "plt.show()"
   ]
  }
 ],
 "metadata": {
  "kernelspec": {
   "display_name": "epfl-ada",
   "language": "python",
   "name": "python3"
  },
  "language_info": {
   "codemirror_mode": {
    "name": "ipython",
    "version": 3
   },
   "file_extension": ".py",
   "mimetype": "text/x-python",
   "name": "python",
   "nbconvert_exporter": "python",
   "pygments_lexer": "ipython3",
   "version": "3.9.18"
  }
 },
 "nbformat": 4,
 "nbformat_minor": 2
}
