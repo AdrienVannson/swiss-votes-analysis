{
 "cells": [
  {
   "cell_type": "markdown",
   "metadata": {},
   "source": [
    "# SwissVotes - Analysis"
   ]
  },
  {
   "cell_type": "code",
   "execution_count": null,
   "metadata": {},
   "outputs": [],
   "source": [
    "import matplotlib.pyplot as plt\n",
    "import pandas as pd\n",
    "import seaborn as sns\n",
    "import numpy as np\n",
    "import re"
   ]
  },
  {
   "cell_type": "markdown",
   "metadata": {},
   "source": [
    "## Data cleaning"
   ]
  },
  {
   "cell_type": "code",
   "execution_count": null,
   "metadata": {},
   "outputs": [],
   "source": [
    "df_full = pd.read_csv('swiss-votes.csv', delimiter=';')\n",
    "df_full.head()"
   ]
  },
  {
   "cell_type": "code",
   "execution_count": null,
   "metadata": {},
   "outputs": [],
   "source": [
    "df = pd.DataFrame()\n",
    "df['title_fr'] = df_full['titel_off_f'] # Title of the vote in French\n",
    "df['date'] = pd.to_datetime(df_full['datum'], dayfirst=True)\n",
    "df['date_year'] = df['date'].dt.year\n",
    "df['type'] = df_full['rechtsform'].map({\n",
    "    1: 'mandatory-referendum',\n",
    "    2: 'optional-referendum',\n",
    "    3: 'popular-initiative',\n",
    "    4: 'AA',\n",
    "    5: 'BB'\n",
    "})\n",
    "df['author'] = df_full['urheber']\n",
    "df['author_fr'] = df_full['urheber-fr']\n",
    "df['valid_signatures'] = df_full['unter_g']\n",
    "\n",
    "df"
   ]
  },
  {
   "cell_type": "markdown",
   "metadata": {},
   "source": [
    "### Political parties"
   ]
  },
  {
   "cell_type": "code",
   "execution_count": null,
   "metadata": {},
   "outputs": [],
   "source": [
    "def has_svp(authors): # UDC: Union Democrate du Centre\n",
    "    authors = authors.lower()\n",
    "    return \"schweizerische volkspartei\" in authors or re.search(r'\\bsvp\\b', authors) is not None\n",
    "\n",
    "def has_sp(authors): # PS: Parti Socialiste\n",
    "    authors = authors.lower()\n",
    "    return \"sozialdemokratischen partei\" in authors \\\n",
    "        or \"sozialdemokratische partei\" in authors \\\n",
    "        or re.search(r'\\bsp\\b', authors) is not None\n",
    "\n",
    "def has_mitte(authors): # Partis centristes\n",
    "    authors = authors.lower()\n",
    "    return re.search(r'\\b(cvp|bdp)\\b', authors) is not None\n",
    "\n",
    "def has_fdp(authors): # Parti libéral-démocrate\n",
    "    authors = authors.lower()\n",
    "    return re.search(r'\\bfdp\\b', authors) is not None\n",
    "\n",
    "def has_grun(authors): # Partis verts\n",
    "    authors = authors.lower().replace('ü', 'u')\n",
    "    return re.search(r'\\bgrun(e|en|es)?\\b', authors) is not None\n",
    "\n",
    "def has_uss(authors): # Union syndicale suisse\n",
    "    authors = authors.lower()\n",
    "    return 'sgb' in authors or re.search(r'schweizerische(n|r) gewerk?schaftsbund', authors) is not None\n",
    "\n",
    "df['author_svp'] = df['author'].map(has_svp)\n",
    "df['author_sp'] = df['author'].map(has_sp)\n",
    "df['author_mitte'] = df['author'].map(has_mitte)\n",
    "df['author_fdp'] = df['author'].map(has_fdp)\n",
    "df['author_grun'] = df['author'].map(has_grun)\n",
    "df['author_uss'] = df['author'].map(has_uss)\n",
    "\n",
    "df['author_partei'] = df['author_svp'] | df['author_sp'] | df['author_mitte'] | df['author_fdp'] | df['author_grun']\n",
    "\n",
    "FULL_NAMES = {\n",
    "    'svp': \"Swiss People's Party\",\n",
    "    'sp': \"Social Democratic Party\",\n",
    "    'mitte': \"The Centre\",\n",
    "    'fdp': \"Free Democratic Party\",\n",
    "    'grun': \"Green Party of Switzerland\",\n",
    "    'uss': \"Swiss Trade Union Federation\"\n",
    "}"
   ]
  },
  {
   "cell_type": "markdown",
   "metadata": {},
   "source": [
    "No author is provided for mandatory referendums (since the referendum is not initiated by a specific group of people). A negligible number of votes of another type also miss this information."
   ]
  },
  {
   "cell_type": "code",
   "execution_count": null,
   "metadata": {},
   "outputs": [],
   "source": [
    "# Missing data\n",
    "df.query(\"type != 'mandatory-referendum' & author == '.'\")"
   ]
  },
  {
   "cell_type": "code",
   "execution_count": null,
   "metadata": {},
   "outputs": [],
   "source": [
    "df_initiatives = df.query(\"type == 'popular-initiative'\")\n",
    "\n",
    "print('Percentage of popular initiatives from a political party', df_initiatives['author_partei'].sum() / len(df_initiatives))"
   ]
  },
  {
   "cell_type": "code",
   "execution_count": null,
   "metadata": {},
   "outputs": [],
   "source": [
    "print(\"Number of initiatives per party:\")\n",
    "\n",
    "for id in FULL_NAMES:\n",
    "    print(FULL_NAMES[id], sum(df_initiatives[f'author_{id}']))"
   ]
  },
  {
   "cell_type": "code",
   "execution_count": null,
   "metadata": {},
   "outputs": [],
   "source": [
    "def plot():\n",
    "    data = []\n",
    "    for id in ['sp', 'uss', 'svp', 'grun', 'fdp', 'mitte']:\n",
    "        data.append({'party': FULL_NAMES[id], 'count': sum(df_initiatives[f'author_{id}'])})\n",
    "\n",
    "    df_data = pd.DataFrame(data)\n",
    "    ax = sns.barplot(df_data, y=\"party\", x=\"count\")\n",
    "    ax.set(xlabel='Number of initiatives', ylabel=None)\n",
    "    plt.savefig('output/total-initiatives-by-party.png', bbox_inches='tight')\n",
    "    plt.show()\n",
    "\n",
    "plot()"
   ]
  },
  {
   "cell_type": "code",
   "execution_count": null,
   "metadata": {},
   "outputs": [],
   "source": [
    "for _, row in df_initiatives.iterrows():\n",
    "    aut = row['author']\n",
    "    if 'partei' in aut.lower() and not row['author_partei']:\n",
    "        print(aut)"
   ]
  },
  {
   "cell_type": "code",
   "execution_count": null,
   "metadata": {},
   "outputs": [],
   "source": [
    "from collections import Counter\n",
    "from matplotlib_venn import venn3\n",
    "\n",
    "def plot_join_initiatives(ids, columns, colors, output_file):\n",
    "    counter = Counter()\n",
    "\n",
    "    for _, row in df_initiatives.iterrows():\n",
    "        votes = (row[columns[0]], row[columns[1]], row[columns[2]])\n",
    "\n",
    "        if votes != (0, 0, 0):\n",
    "            counter.update([votes])\n",
    "\n",
    "    plt.figure()\n",
    "    ax = plt.gca()\n",
    "\n",
    "    v = venn3(\n",
    "        subsets=(counter[(True, False, False)], counter[(False, True, False)], counter[(True, True, False)], counter[(False, False, True)], counter[(True, False, True)], counter[(False, True, True)], counter[(True, True, True)]),\n",
    "        set_labels=None,\n",
    "        ax=ax,\n",
    "        set_colors=colors\n",
    "    )\n",
    "\n",
    "    for id in ['001', '010', '011', '100', '101', '110', '111']:\n",
    "        try:\n",
    "            v.get_patch_by_id(id).set_alpha(0.7)\n",
    "        except:\n",
    "            pass\n",
    "\n",
    "    \n",
    "    h = [v.get_patch_by_id('100'), v.get_patch_by_id('010'), v.get_patch_by_id('001')]\n",
    "    l = [FULL_NAMES[id] for id in ids]\n",
    "    ax.legend(handles=h, labels=l)\n",
    "\n",
    "    plt.savefig(output_file, bbox_inches='tight')\n",
    "    plt.show()\n",
    "\n",
    "plot_join_initiatives(['sp', 'grun', 'svp'], ('author_sp', 'author_grun', 'author_svp'), ('red', 'green', 'blue'), 'output/joint-initiatives-parties.png')\n",
    "plot_join_initiatives(['sp', 'grun', 'uss'], ('author_sp', 'author_grun', 'author_uss'), ('red', 'green', 'purple'), 'output/joint-initiatives-uss.png')"
   ]
  },
  {
   "cell_type": "code",
   "execution_count": null,
   "metadata": {},
   "outputs": [],
   "source": [
    "for id in ['sp', 'grun', 'svp']:\n",
    "    df_party = df_initiatives.query(f\"author_{id} == 1\")\n",
    "    plt.figure(figsize=(10, 6))\n",
    "    sns.histplot(df_party['date_year'], bins=(df_party['date_year'].max()-df_party['date_year'].min()) // 10)\n",
    "    plt.title(f\"Number of popular votes per year for {FULL_NAMES[id]}\")\n",
    "    plt.xlabel('Year')\n",
    "    plt.ylabel('Number of votes')\n",
    "    plt.show()"
   ]
  },
  {
   "cell_type": "code",
   "execution_count": null,
   "metadata": {},
   "outputs": [],
   "source": [
    "def plot():\n",
    "    rows = []\n",
    "\n",
    "    for id in ['sp', 'svp', 'grun']:\n",
    "        for _, r in df_initiatives.query(f\"author_{id} == 1\").iterrows():\n",
    "            rows.append({'year': r['date_year'], 'party': id})\n",
    "\n",
    "    df_initiatives_parties = pd.DataFrame(rows, columns=['year', 'party'])\n",
    "\n",
    "    plt.figure(figsize=(10, 6))\n",
    "\n",
    "    sns.histplot(df_initiatives_parties, x='year', hue='party', multiple=\"dodge\", binwidth=10)\n",
    "\n",
    "    plt.title(f\"Number of popular initiatives per decade by party\")\n",
    "    plt.xlabel('Year')\n",
    "    plt.ylabel('Number of votes')\n",
    "    plt.show()\n",
    "\n",
    "plot()"
   ]
  },
  {
   "cell_type": "markdown",
   "metadata": {},
   "source": [
    "## Analysis"
   ]
  },
  {
   "cell_type": "code",
   "execution_count": null,
   "metadata": {},
   "outputs": [],
   "source": [
    "plt.figure(figsize=(10, 6))\n",
    "sns.histplot(df['date_year'], binwidth=10)\n",
    "plt.title('Number of popular votes per decade')\n",
    "plt.xlabel('Year')\n",
    "plt.ylabel('Number of votes')\n",
    "plt.show()"
   ]
  },
  {
   "cell_type": "code",
   "execution_count": null,
   "metadata": {},
   "outputs": [],
   "source": [
    "plt.figure(figsize=(10, 6))\n",
    "sns.histplot(df_initiatives['date_year'], binwidth=10)\n",
    "plt.title('Number of popular initiatives per decade')\n",
    "plt.xlabel('Year')\n",
    "plt.ylabel('Number of votes')\n",
    "plt.show()"
   ]
  },
  {
   "cell_type": "code",
   "execution_count": null,
   "metadata": {},
   "outputs": [],
   "source": [
    "sns.displot(df, x='date_year', hue='type', kind='hist', multiple='fill', aspect=2, height=6)\n",
    "plt.title(\"Proportion of the referendum used over the years\")\n",
    "plt.xlabel(\"Year\")\n",
    "plt.xlim(df['date_year'].min(), df['date_year'].max())\n",
    "plt.ylabel(\"Proportion\")\n",
    "plt.show()"
   ]
  },
  {
   "cell_type": "markdown",
   "metadata": {},
   "source": [
    "## Dimension reduction"
   ]
  },
  {
   "cell_type": "code",
   "execution_count": null,
   "metadata": {},
   "outputs": [],
   "source": [
    "from tqdm import tqdm\n",
    "\n",
    "indices = [c for c in df_full.columns if c[:2] == 'p-' and c[2:8] != 'others']\n",
    "\n",
    "# Filter out inactive entities\n",
    "new_indices = []\n",
    "\n",
    "for idx in indices:\n",
    "    total = 0\n",
    "    for _, r in df_full.iterrows():\n",
    "        if str(r[idx]) in ['1', '2']:\n",
    "            total += 1\n",
    "    if total >= 200:\n",
    "        new_indices.append(idx)\n",
    "\n",
    "indices = new_indices\n",
    "\n",
    "votes = [[{'pp': 0, 'pn': 0, 'np': 0, 'nn': 0} for _ in range(len(indices))] for _ in range(len(indices))]\n",
    "\n",
    "for i1, idx1 in enumerate(tqdm(indices)):\n",
    "    for i2, idx2 in enumerate(indices):\n",
    "        for _, r in df_full.iterrows():\n",
    "            if str(r[idx1]) == '1' and str(r[idx2]) == '1':\n",
    "                votes[i1][i2]['pp'] += 1\n",
    "            if str(r[idx1]) == '1' and str(r[idx2]) == '2':\n",
    "                votes[i1][i2]['pn'] += 1\n",
    "            if str(r[idx1]) == '2' and str(r[idx2]) == '1':\n",
    "                votes[i1][i2]['np'] += 1\n",
    "            if str(r[idx1]) == '2' and str(r[idx2]) == '2':\n",
    "                votes[i1][i2]['nn'] += 1\n",
    "\n",
    "def get_dist(votes):\n",
    "    total = votes['pp'] + votes['nn'] + votes['np'] + votes['pn']\n",
    "    return (votes['pn'] + votes['np']) / total\n",
    "\n",
    "dists = [[get_dist(votes[i][j]) for i, _ in enumerate(votes)] for j, _ in enumerate(votes)]"
   ]
  },
  {
   "cell_type": "code",
   "execution_count": null,
   "metadata": {},
   "outputs": [],
   "source": [
    "entity_names = {\n",
    "    'p-fdp': \"Free Democratic Party\", # Freisinnig-demokratische Partei\n",
    "    'p-sps': \"Social Democratic Party\", # Sozialdemokratische Partei\n",
    "    'p-svp': \"Swiss People's Party\", # Schweizerische Volkspartei\n",
    "    'p-evp': \"Evangelical People's Party\", # Evangelische Volkspartei\n",
    "    'p-gps': \"Green Party\", # Grüne Partei der Schweiz\n",
    "    'p-pda': \"Swiss Party of Labour\", # Partei der Arbeit\n",
    "    'p-sd': \"Swiss Democrats\", # Schweizer Demokraten\n",
    "    'p-edu': \"Federal Democratic Union\", # Eidgenössisch-Demokratische Union\n",
    "    'p-fps': \"Automobile Party\", # Autopartei\n",
    "    'p-cvp': \"Christian Democratic People's Party\", # Christlichdemokratische Volkspartei\n",
    "    'p-lps': \"Liberal Party\", # Liberale Partei der Schweiz\n",
    "    'p-ldu': \"Alliance of Independents\", # Landesring der Unabhängigen\n",
    "    'p-eco': \"Economiesuisse\",\n",
    "    'p-sgv': \"Swiss Union of Arts and Crafts\", # Schweizerischer Gewerbeverband\n",
    "    'p-sbv': \"Swiss Farmers' Union\", # Schweizer Bauernverband\n",
    "    'p-sgb': \"Swiss Trade Union Federation\", # Schweizerischer Gewerkschaftsbund\n",
    "    'p-travs': \"Travail.Suisse\",\n",
    "    'p-sav': \"Swiss Employers Association\" # Schweizerischer Arbeitgeberverband\n",
    "}"
   ]
  },
  {
   "cell_type": "code",
   "execution_count": null,
   "metadata": {},
   "outputs": [],
   "source": [
    "# Agreement between sps and svp\n",
    "for i, idx in enumerate(indices):\n",
    "    if idx == 'p-svp':\n",
    "        i_svp = i\n",
    "    if idx == 'p-sps':\n",
    "        i_sps = i\n",
    "\n",
    "votes[i_sps][i_svp]"
   ]
  },
  {
   "cell_type": "code",
   "execution_count": null,
   "metadata": {},
   "outputs": [],
   "source": [
    "# 1D\n",
    "from sklearn.decomposition import PCA\n",
    "pca = PCA(n_components=1)\n",
    "data = pca.fit_transform(dists)\n",
    "\n",
    "data = -data\n",
    "\n",
    "perm = [(data[i], i) for i in range(len(indices))]\n",
    "perm.sort()\n",
    "perm = [i for d, i in perm]"
   ]
  },
  {
   "cell_type": "code",
   "execution_count": null,
   "metadata": {},
   "outputs": [],
   "source": [
    "rows = []\n",
    "\n",
    "for i in range(len(dists)):\n",
    "    r = {'name': entity_names[indices[perm[i]]]}\n",
    "    for j in range(len(dists)):\n",
    "        agreement = 1 - dists[perm[i]][perm[j]]\n",
    "        r[entity_names[indices[perm[j]]]] = agreement\n",
    "    rows.append(r)\n",
    "\n",
    "data = pd.DataFrame(rows)\n",
    "data = data.set_index('name')\n",
    "heatmap = sns.heatmap(data)\n",
    "plt.xlabel(None)\n",
    "plt.ylabel(None)\n",
    "plt.setp(heatmap.get_xticklabels(), rotation=45, horizontalalignment='right')\n",
    "plt.savefig('output/heatmap-votes.png', bbox_inches='tight')\n",
    "plt.show()"
   ]
  },
  {
   "cell_type": "code",
   "execution_count": null,
   "metadata": {},
   "outputs": [],
   "source": [
    "from sklearn.manifold import TSNE\n",
    "tsne = TSNE(n_components=2, metric='precomputed', perplexity=5, init=\"random\", random_state=42)\n",
    "data = tsne.fit_transform(np.array(dists))\n",
    "\n",
    "plt.scatter(data[:, 0], data[:, 1])\n",
    "\n",
    "for i, label in enumerate(indices):\n",
    "    plt.annotate(label[2:], (data[i, 0], data[i, 1]))\n",
    "\n",
    "plt.title('PCA Visualization')\n",
    "plt.xlabel('Component 1')\n",
    "plt.ylabel('Component 2')\n",
    "plt.show()"
   ]
  },
  {
   "cell_type": "code",
   "execution_count": null,
   "metadata": {},
   "outputs": [],
   "source": [
    "from sklearn.decomposition import PCA\n",
    "pca = PCA(n_components=2)\n",
    "data = pca.fit_transform(dists)\n",
    "\n",
    "data[:, 0] = -data[:, 0]\n",
    "\n",
    "plt.scatter(data[:, 0], data[:, 1])\n",
    "\n",
    "for i, label in enumerate(indices):\n",
    "    plt.annotate(label, (data[i, 0], data[i, 1]))\n",
    "\n",
    "plt.title('PCA Visualization')\n",
    "plt.xlabel('Component 1')\n",
    "plt.ylabel('Component 2')\n",
    "plt.show()"
   ]
  }
 ],
 "metadata": {
  "kernelspec": {
   "display_name": "epfl-ada",
   "language": "python",
   "name": "python3"
  },
  "language_info": {
   "codemirror_mode": {
    "name": "ipython",
    "version": 3
   },
   "file_extension": ".py",
   "mimetype": "text/x-python",
   "name": "python",
   "nbconvert_exporter": "python",
   "pygments_lexer": "ipython3",
   "version": "3.9.18"
  }
 },
 "nbformat": 4,
 "nbformat_minor": 2
}
